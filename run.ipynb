{
  "nbformat": 4,
  "nbformat_minor": 0,
  "metadata": {
    "colab": {
      "provenance": []
    },
    "kernelspec": {
      "name": "python3",
      "display_name": "Python 3"
    },
    "language_info": {
      "name": "python"
    },
    "accelerator": "GPU",
    "gpuClass": "standard"
  },
  "cells": [
    {
      "cell_type": "code",
      "source": [
        "!git clone https://github.com/youngseo0526/Blended-Diffusion-for-Sound-driven-Editing-of-Natural-Images.git"
      ],
      "metadata": {
        "id": "Ot5a49Ae2JsI",
        "colab": {
          "base_uri": "https://localhost:8080/"
        },
        "outputId": "d2b98d89-bb1b-489f-f7fa-4fc079dad85c"
      },
      "execution_count": 1,
      "outputs": [
        {
          "output_type": "stream",
          "name": "stdout",
          "text": [
            "Cloning into 'Blended-Diffusion-for-Sound-driven-Editing-of-Natural-Images'...\n",
            "remote: Enumerating objects: 216, done.\u001b[K\n",
            "remote: Counting objects: 100% (86/86), done.\u001b[K\n",
            "remote: Compressing objects: 100% (56/56), done.\u001b[K\n",
            "remote: Total 216 (delta 37), reused 67 (delta 28), pack-reused 130\u001b[K\n",
            "Receiving objects: 100% (216/216), 77.09 MiB | 8.41 MiB/s, done.\n",
            "Resolving deltas: 100% (42/42), done.\n"
          ]
        }
      ]
    },
    {
      "cell_type": "code",
      "source": [
        "cd /content/Blended-Diffusion-for-Sound-driven-Editing-of-Natural-Images"
      ],
      "metadata": {
        "id": "O31jGxH9ZHLs",
        "colab": {
          "base_uri": "https://localhost:8080/"
        },
        "outputId": "e7456744-3b9d-4278-d681-48a362521f89"
      },
      "execution_count": 2,
      "outputs": [
        {
          "output_type": "stream",
          "name": "stdout",
          "text": [
            "/content/Blended-Diffusion-for-Sound-driven-Editing-of-Natural-Images\n"
          ]
        }
      ]
    },
    {
      "cell_type": "code",
      "source": [
        "!pip3 install ftfy regex matplotlib lpips kornia opencv-python torch==1.9.0+cu111 torchvision==0.10.0+cu111 -f https://download.pytorch.org/whl/torch_stable.html"
      ],
      "metadata": {
        "id": "tLJs-qeMCOSL",
        "colab": {
          "base_uri": "https://localhost:8080/"
        },
        "outputId": "a1330866-9bd6-40a7-f657-287b050e6b43"
      },
      "execution_count": 3,
      "outputs": [
        {
          "output_type": "stream",
          "name": "stdout",
          "text": [
            "Looking in indexes: https://pypi.org/simple, https://us-python.pkg.dev/colab-wheels/public/simple/\n",
            "Looking in links: https://download.pytorch.org/whl/torch_stable.html\n",
            "Collecting ftfy\n",
            "  Downloading ftfy-6.1.1-py3-none-any.whl (53 kB)\n",
            "\u001b[2K     \u001b[90m━━━━━━━━━━━━━━━━━━━━━━━━━━━━━━━━━━━━━━━━\u001b[0m \u001b[32m53.1/53.1 KB\u001b[0m \u001b[31m6.1 MB/s\u001b[0m eta \u001b[36m0:00:00\u001b[0m\n",
            "\u001b[?25hRequirement already satisfied: regex in /usr/local/lib/python3.9/dist-packages (2022.10.31)\n",
            "Requirement already satisfied: matplotlib in /usr/local/lib/python3.9/dist-packages (3.7.1)\n",
            "Collecting lpips\n",
            "  Downloading lpips-0.1.4-py3-none-any.whl (53 kB)\n",
            "\u001b[2K     \u001b[90m━━━━━━━━━━━━━━━━━━━━━━━━━━━━━━━━━━━━━━━━\u001b[0m \u001b[32m53.8/53.8 KB\u001b[0m \u001b[31m7.6 MB/s\u001b[0m eta \u001b[36m0:00:00\u001b[0m\n",
            "\u001b[?25hCollecting kornia\n",
            "  Downloading kornia-0.6.10-py2.py3-none-any.whl (612 kB)\n",
            "\u001b[2K     \u001b[90m━━━━━━━━━━━━━━━━━━━━━━━━━━━━━━━━━━━━━━\u001b[0m \u001b[32m612.0/612.0 KB\u001b[0m \u001b[31m39.8 MB/s\u001b[0m eta \u001b[36m0:00:00\u001b[0m\n",
            "\u001b[?25hRequirement already satisfied: opencv-python in /usr/local/lib/python3.9/dist-packages (4.7.0.72)\n",
            "Collecting torch==1.9.0+cu111\n",
            "  Downloading https://download.pytorch.org/whl/cu111/torch-1.9.0%2Bcu111-cp39-cp39-linux_x86_64.whl (2041.4 MB)\n",
            "\u001b[2K     \u001b[90m━━━━━━━━━━━━━━━━━━━━━━━━━━━━━━━━━━━━━━━━\u001b[0m \u001b[32m2.0/2.0 GB\u001b[0m \u001b[31m870.6 kB/s\u001b[0m eta \u001b[36m0:00:00\u001b[0m\n",
            "\u001b[?25hCollecting torchvision==0.10.0+cu111\n",
            "  Downloading https://download.pytorch.org/whl/cu111/torchvision-0.10.0%2Bcu111-cp39-cp39-linux_x86_64.whl (23.1 MB)\n",
            "\u001b[2K     \u001b[90m━━━━━━━━━━━━━━━━━━━━━━━━━━━━━━━━━━━━━━━━\u001b[0m \u001b[32m23.1/23.1 MB\u001b[0m \u001b[31m71.6 MB/s\u001b[0m eta \u001b[36m0:00:00\u001b[0m\n",
            "\u001b[?25hRequirement already satisfied: typing-extensions in /usr/local/lib/python3.9/dist-packages (from torch==1.9.0+cu111) (4.5.0)\n",
            "Requirement already satisfied: numpy in /usr/local/lib/python3.9/dist-packages (from torchvision==0.10.0+cu111) (1.22.4)\n",
            "Requirement already satisfied: pillow>=5.3.0 in /usr/local/lib/python3.9/dist-packages (from torchvision==0.10.0+cu111) (8.4.0)\n",
            "Requirement already satisfied: wcwidth>=0.2.5 in /usr/local/lib/python3.9/dist-packages (from ftfy) (0.2.6)\n",
            "Requirement already satisfied: fonttools>=4.22.0 in /usr/local/lib/python3.9/dist-packages (from matplotlib) (4.39.0)\n",
            "Requirement already satisfied: cycler>=0.10 in /usr/local/lib/python3.9/dist-packages (from matplotlib) (0.11.0)\n",
            "Requirement already satisfied: packaging>=20.0 in /usr/local/lib/python3.9/dist-packages (from matplotlib) (23.0)\n",
            "Requirement already satisfied: contourpy>=1.0.1 in /usr/local/lib/python3.9/dist-packages (from matplotlib) (1.0.7)\n",
            "Requirement already satisfied: importlib-resources>=3.2.0 in /usr/local/lib/python3.9/dist-packages (from matplotlib) (5.12.0)\n",
            "Requirement already satisfied: pyparsing>=2.3.1 in /usr/local/lib/python3.9/dist-packages (from matplotlib) (3.0.9)\n",
            "Requirement already satisfied: kiwisolver>=1.0.1 in /usr/local/lib/python3.9/dist-packages (from matplotlib) (1.4.4)\n",
            "Requirement already satisfied: python-dateutil>=2.7 in /usr/local/lib/python3.9/dist-packages (from matplotlib) (2.8.2)\n",
            "Requirement already satisfied: tqdm>=4.28.1 in /usr/local/lib/python3.9/dist-packages (from lpips) (4.65.0)\n",
            "Requirement already satisfied: scipy>=1.0.1 in /usr/local/lib/python3.9/dist-packages (from lpips) (1.10.1)\n",
            "Collecting kornia\n",
            "  Downloading kornia-0.6.9-py2.py3-none-any.whl (569 kB)\n",
            "\u001b[2K     \u001b[90m━━━━━━━━━━━━━━━━━━━━━━━━━━━━━━━━━━━━━━\u001b[0m \u001b[32m569.1/569.1 KB\u001b[0m \u001b[31m51.4 MB/s\u001b[0m eta \u001b[36m0:00:00\u001b[0m\n",
            "\u001b[?25h  Downloading kornia-0.6.8-py2.py3-none-any.whl (551 kB)\n",
            "\u001b[2K     \u001b[90m━━━━━━━━━━━━━━━━━━━━━━━━━━━━━━━━━━━━━━\u001b[0m \u001b[32m551.1/551.1 KB\u001b[0m \u001b[31m56.5 MB/s\u001b[0m eta \u001b[36m0:00:00\u001b[0m\n",
            "\u001b[?25hRequirement already satisfied: zipp>=3.1.0 in /usr/local/lib/python3.9/dist-packages (from importlib-resources>=3.2.0->matplotlib) (3.15.0)\n",
            "Requirement already satisfied: six>=1.5 in /usr/local/lib/python3.9/dist-packages (from python-dateutil>=2.7->matplotlib) (1.15.0)\n",
            "Installing collected packages: torch, ftfy, torchvision, kornia, lpips\n",
            "  Attempting uninstall: torch\n",
            "    Found existing installation: torch 1.13.1+cu116\n",
            "    Uninstalling torch-1.13.1+cu116:\n",
            "      Successfully uninstalled torch-1.13.1+cu116\n",
            "  Attempting uninstall: torchvision\n",
            "    Found existing installation: torchvision 0.14.1+cu116\n",
            "    Uninstalling torchvision-0.14.1+cu116:\n",
            "      Successfully uninstalled torchvision-0.14.1+cu116\n",
            "\u001b[31mERROR: pip's dependency resolver does not currently take into account all the packages that are installed. This behaviour is the source of the following dependency conflicts.\n",
            "torchtext 0.14.1 requires torch==1.13.1, but you have torch 1.9.0+cu111 which is incompatible.\n",
            "torchaudio 0.13.1+cu116 requires torch==1.13.1, but you have torch 1.9.0+cu111 which is incompatible.\u001b[0m\u001b[31m\n",
            "\u001b[0mSuccessfully installed ftfy-6.1.1 kornia-0.6.8 lpips-0.1.4 torch-1.9.0+cu111 torchvision-0.10.0+cu111\n"
          ]
        }
      ]
    },
    {
      "cell_type": "code",
      "source": [
        "!pip3 install timm git+https://github.com/openai/CLIP.git"
      ],
      "metadata": {
        "id": "CxQGR3R1JuIq",
        "colab": {
          "base_uri": "https://localhost:8080/"
        },
        "outputId": "1a6cc595-40f1-4c23-cd85-7a4ee01246b0"
      },
      "execution_count": 4,
      "outputs": [
        {
          "output_type": "stream",
          "name": "stdout",
          "text": [
            "Looking in indexes: https://pypi.org/simple, https://us-python.pkg.dev/colab-wheels/public/simple/\n",
            "Collecting git+https://github.com/openai/CLIP.git\n",
            "  Cloning https://github.com/openai/CLIP.git to /tmp/pip-req-build-jzpzne5k\n",
            "  Running command git clone --filter=blob:none --quiet https://github.com/openai/CLIP.git /tmp/pip-req-build-jzpzne5k\n",
            "  Resolved https://github.com/openai/CLIP.git to commit a9b1bf5920416aaeaec965c25dd9e8f98c864f16\n",
            "  Preparing metadata (setup.py) ... \u001b[?25l\u001b[?25hdone\n",
            "Collecting timm\n",
            "  Downloading timm-0.6.12-py3-none-any.whl (549 kB)\n",
            "\u001b[2K     \u001b[90m━━━━━━━━━━━━━━━━━━━━━━━━━━━━━━━━━━━━━━\u001b[0m \u001b[32m549.1/549.1 KB\u001b[0m \u001b[31m15.1 MB/s\u001b[0m eta \u001b[36m0:00:00\u001b[0m\n",
            "\u001b[?25hCollecting huggingface-hub\n",
            "  Downloading huggingface_hub-0.13.3-py3-none-any.whl (199 kB)\n",
            "\u001b[2K     \u001b[90m━━━━━━━━━━━━━━━━━━━━━━━━━━━━━━━━━━━━━━\u001b[0m \u001b[32m199.8/199.8 KB\u001b[0m \u001b[31m20.9 MB/s\u001b[0m eta \u001b[36m0:00:00\u001b[0m\n",
            "\u001b[?25hRequirement already satisfied: pyyaml in /usr/local/lib/python3.9/dist-packages (from timm) (6.0)\n",
            "Requirement already satisfied: torchvision in /usr/local/lib/python3.9/dist-packages (from timm) (0.10.0+cu111)\n",
            "Requirement already satisfied: torch>=1.7 in /usr/local/lib/python3.9/dist-packages (from timm) (1.9.0+cu111)\n",
            "Requirement already satisfied: ftfy in /usr/local/lib/python3.9/dist-packages (from clip==1.0) (6.1.1)\n",
            "Requirement already satisfied: regex in /usr/local/lib/python3.9/dist-packages (from clip==1.0) (2022.10.31)\n",
            "Requirement already satisfied: tqdm in /usr/local/lib/python3.9/dist-packages (from clip==1.0) (4.65.0)\n",
            "Requirement already satisfied: typing-extensions in /usr/local/lib/python3.9/dist-packages (from torch>=1.7->timm) (4.5.0)\n",
            "Requirement already satisfied: wcwidth>=0.2.5 in /usr/local/lib/python3.9/dist-packages (from ftfy->clip==1.0) (0.2.6)\n",
            "Requirement already satisfied: requests in /usr/local/lib/python3.9/dist-packages (from huggingface-hub->timm) (2.27.1)\n",
            "Requirement already satisfied: packaging>=20.9 in /usr/local/lib/python3.9/dist-packages (from huggingface-hub->timm) (23.0)\n",
            "Requirement already satisfied: filelock in /usr/local/lib/python3.9/dist-packages (from huggingface-hub->timm) (3.10.0)\n",
            "Requirement already satisfied: pillow>=5.3.0 in /usr/local/lib/python3.9/dist-packages (from torchvision->timm) (8.4.0)\n",
            "Requirement already satisfied: numpy in /usr/local/lib/python3.9/dist-packages (from torchvision->timm) (1.22.4)\n",
            "Requirement already satisfied: urllib3<1.27,>=1.21.1 in /usr/local/lib/python3.9/dist-packages (from requests->huggingface-hub->timm) (1.26.15)\n",
            "Requirement already satisfied: certifi>=2017.4.17 in /usr/local/lib/python3.9/dist-packages (from requests->huggingface-hub->timm) (2022.12.7)\n",
            "Requirement already satisfied: charset-normalizer~=2.0.0 in /usr/local/lib/python3.9/dist-packages (from requests->huggingface-hub->timm) (2.0.12)\n",
            "Requirement already satisfied: idna<4,>=2.5 in /usr/local/lib/python3.9/dist-packages (from requests->huggingface-hub->timm) (3.4)\n",
            "Building wheels for collected packages: clip\n",
            "  Building wheel for clip (setup.py) ... \u001b[?25l\u001b[?25hdone\n",
            "  Created wheel for clip: filename=clip-1.0-py3-none-any.whl size=1369398 sha256=9545dcd296f5091b4e9d221cd15b3a6c0465aefd03c1b999464c6af165a6c02e\n",
            "  Stored in directory: /tmp/pip-ephem-wheel-cache-gz908_0f/wheels/c8/e4/e1/11374c111387672fc2068dfbe0d4b424cb9cdd1b2e184a71b5\n",
            "Successfully built clip\n",
            "Installing collected packages: huggingface-hub, timm, clip\n",
            "Successfully installed clip-1.0 huggingface-hub-0.13.3 timm-0.6.12\n"
          ]
        }
      ]
    },
    {
      "cell_type": "code",
      "source": [
        "!mkdir checkpoints"
      ],
      "metadata": {
        "id": "SBa8ctyMEo9P"
      },
      "execution_count": 7,
      "outputs": []
    },
    {
      "cell_type": "code",
      "source": [
        "cd checkpoints"
      ],
      "metadata": {
        "colab": {
          "base_uri": "https://localhost:8080/"
        },
        "id": "5xiIEMrdEzWQ",
        "outputId": "9131a029-a0f8-43c0-b9a8-1f90397a1501"
      },
      "execution_count": 13,
      "outputs": [
        {
          "output_type": "stream",
          "name": "stdout",
          "text": [
            "/content/Blended-Diffusion-for-Sound-driven-Editing-of-Natural-Images/checkpoints\n"
          ]
        }
      ]
    },
    {
      "cell_type": "code",
      "source": [
        "!gdown https://drive.google.com/uc?id=145NpznbcwMeoX-v8U-bUpu8eXILh3n7Z"
      ],
      "metadata": {
        "colab": {
          "base_uri": "https://localhost:8080/"
        },
        "id": "eyO3SfLPE6DI",
        "outputId": "ec58eced-5237-4f42-ea4b-69b1873e58e5"
      },
      "execution_count": 14,
      "outputs": [
        {
          "output_type": "stream",
          "name": "stdout",
          "text": [
            "Downloading...\n",
            "From: https://drive.google.com/uc?id=145NpznbcwMeoX-v8U-bUpu8eXILh3n7Z\n",
            "To: /content/Blended-Diffusion-for-Sound-driven-Editing-of-Natural-Images/checkpoints/256x256_diffusion_uncond.pt\n",
            "100% 2.21G/2.21G [00:11<00:00, 198MB/s]\n"
          ]
        }
      ]
    },
    {
      "cell_type": "code",
      "source": [
        "cd .."
      ],
      "metadata": {
        "colab": {
          "base_uri": "https://localhost:8080/"
        },
        "id": "EVrTD4EuFwqC",
        "outputId": "54ea7c46-49fe-477c-d4af-ad5e41b7ada1"
      },
      "execution_count": 15,
      "outputs": [
        {
          "output_type": "stream",
          "name": "stdout",
          "text": [
            "/content/Blended-Diffusion-for-Sound-driven-Editing-of-Natural-Images\n"
          ]
        }
      ]
    },
    {
      "cell_type": "code",
      "source": [
        "!python main.py -a \"audio_example/bird tweeting.wav\" -i \"input_example/butterfly.png\" --mask \"input_example/butterfly_mask.png\" --output_path \"output\""
      ],
      "metadata": {
        "colab": {
          "base_uri": "https://localhost:8080/"
        },
        "id": "h1RyTrvwtVJw",
        "outputId": "236de1ab-b773-4d63-ceb0-5bcc5c60d2ea"
      },
      "execution_count": null,
      "outputs": [
        {
          "output_type": "stream",
          "name": "stdout",
          "text": [
            "Using device: cuda:0\n",
            "Setting up [LPIPS] perceptual loss: trunk [vgg], v[0.1], spatial [off]\n",
            "Loading model from: /usr/local/lib/python3.9/dist-packages/lpips/weights/v0.1/vgg.pth\n",
            "Start iterations 0\n",
            "  0% 0/75 [00:00<?, ?it/s]/usr/local/lib/python3.9/dist-packages/torch/nn/functional.py:718: UserWarning: Named tensors and all their associated APIs are an experimental feature and subject to change. Please do not use them for anything important until they are released as stable. (Triggered internally at  /pytorch/c10/core/TensorImpl.h:1156.)\n",
            "  return torch.max_pool2d(input, kernel_size, stride, padding, dilation, ceil_mode)\n",
            "cosine_distance_loss - 966.01\n",
            "range_loss - 0.00\n",
            "dists: tensor([1.2389], device='cuda:0')\n",
            " 27% 20/75 [01:58<05:17,  5.77s/it]cosine_distance_loss - 820.54\n",
            "range_loss - 0.00\n",
            "dists: tensor([1.2021], device='cuda:0')\n",
            " 53% 40/75 [03:53<03:08,  5.37s/it]cosine_distance_loss - 727.95\n",
            "range_loss - 0.00\n",
            "dists: tensor([1.2231], device='cuda:0')\n",
            " 80% 60/75 [05:48<01:22,  5.51s/it]cosine_distance_loss - 699.72\n",
            "range_loss - 0.00\n",
            "dists: tensor([1.2078], device='cuda:0')\n",
            " 99% 74/75 [07:10<00:05,  5.31s/it]cosine_distance_loss - 691.97\n",
            "range_loss - 0.00\n",
            "dists: tensor([1.2225], device='cuda:0')\n",
            "100% 75/75 [07:21<00:00,  5.88s/it]\n",
            "Start iterations 1\n",
            "  0% 0/75 [00:00<?, ?it/s]cosine_distance_loss - 965.49\n",
            "range_loss - 0.00\n",
            "dists: tensor([1.2149], device='cuda:0')\n",
            " 27% 20/75 [01:56<05:12,  5.68s/it]cosine_distance_loss - 801.27\n",
            "range_loss - 0.00\n",
            "dists: tensor([1.1827], device='cuda:0')\n",
            " 53% 40/75 [03:51<03:14,  5.57s/it]cosine_distance_loss - 746.14\n",
            "range_loss - 0.00\n",
            "dists: tensor([1.2026], device='cuda:0')\n",
            " 80% 60/75 [05:47<01:21,  5.45s/it]cosine_distance_loss - 742.26\n",
            "range_loss - 0.00\n",
            "dists: tensor([1.2353], device='cuda:0')\n",
            " 99% 74/75 [07:10<00:05,  5.74s/it]cosine_distance_loss - 739.59\n",
            "range_loss - 0.00\n",
            "dists: tensor([1.2623], device='cuda:0')\n",
            "100% 75/75 [07:20<00:00,  5.87s/it]\n",
            "Start iterations 2\n",
            "  0% 0/75 [00:00<?, ?it/s]cosine_distance_loss - 910.30\n",
            "range_loss - 0.00\n",
            "dists: tensor([1.2142], device='cuda:0')\n",
            " 27% 20/75 [01:56<05:00,  5.46s/it]cosine_distance_loss - 841.28\n",
            "range_loss - 0.00\n",
            "dists: tensor([1.1365], device='cuda:0')\n",
            " 53% 40/75 [03:52<03:23,  5.81s/it]cosine_distance_loss - 730.14\n",
            "range_loss - 0.00\n",
            "dists: tensor([1.1334], device='cuda:0')\n",
            " 80% 60/75 [05:46<01:19,  5.32s/it]cosine_distance_loss - 718.85\n",
            "range_loss - 0.00\n",
            "dists: tensor([1.1588], device='cuda:0')\n",
            " 99% 74/75 [07:09<00:05,  5.58s/it]cosine_distance_loss - 682.71\n",
            "range_loss - 0.00\n",
            "dists: tensor([1.1607], device='cuda:0')\n",
            "100% 75/75 [07:20<00:00,  5.88s/it]\n",
            "Start iterations 3\n",
            "  0% 0/75 [00:00<?, ?it/s]cosine_distance_loss - 950.40\n",
            "range_loss - 0.00\n",
            "dists: tensor([1.2205], device='cuda:0')\n",
            " 27% 20/75 [01:54<04:54,  5.35s/it]cosine_distance_loss - 778.07\n",
            "range_loss - 0.00\n",
            "dists: tensor([1.1624], device='cuda:0')\n",
            " 53% 40/75 [03:50<03:11,  5.46s/it]cosine_distance_loss - 726.34\n",
            "range_loss - 0.00\n",
            "dists: tensor([1.1778], device='cuda:0')\n",
            " 80% 60/75 [05:46<01:25,  5.73s/it]cosine_distance_loss - 700.06\n",
            "range_loss - 0.00\n",
            "dists: tensor([1.2008], device='cuda:0')\n",
            " 99% 74/75 [07:08<00:05,  5.48s/it]cosine_distance_loss - 698.63\n",
            "range_loss - 0.00\n",
            "dists: tensor([1.2225], device='cuda:0')\n",
            "100% 75/75 [07:19<00:00,  5.86s/it]\n",
            "Start iterations 4\n",
            "  0% 0/75 [00:00<?, ?it/s]cosine_distance_loss - 957.93\n",
            "range_loss - 0.00\n",
            "dists: tensor([1.2193], device='cuda:0')\n",
            " 27% 20/75 [01:56<05:15,  5.73s/it]cosine_distance_loss - 758.72\n",
            "range_loss - 0.00\n",
            "dists: tensor([1.1664], device='cuda:0')\n",
            " 53% 40/75 [03:50<03:08,  5.38s/it]cosine_distance_loss - 700.41\n",
            "range_loss - 0.00\n",
            "dists: tensor([1.1930], device='cuda:0')\n",
            " 80% 60/75 [05:46<01:22,  5.51s/it]cosine_distance_loss - 692.61\n",
            "range_loss - 0.00\n",
            "dists: tensor([1.1864], device='cuda:0')\n",
            " 99% 74/75 [07:07<00:05,  5.28s/it]cosine_distance_loss - 699.08\n",
            "range_loss - 0.00\n",
            "dists: tensor([1.2012], device='cuda:0')\n",
            "100% 75/75 [07:18<00:00,  5.84s/it]\n",
            "Start iterations 5\n",
            "  0% 0/75 [00:00<?, ?it/s]cosine_distance_loss - 951.39\n",
            "range_loss - 0.00\n",
            "dists: tensor([1.2160], device='cuda:0')\n",
            " 27% 20/75 [01:54<05:11,  5.66s/it]cosine_distance_loss - 796.21\n",
            "range_loss - 0.00\n",
            "dists: tensor([1.1795], device='cuda:0')\n",
            " 53% 40/75 [03:47<03:06,  5.32s/it]cosine_distance_loss - 714.73\n",
            "range_loss - 0.00\n",
            "dists: tensor([1.2052], device='cuda:0')\n",
            " 55% 41/75 [03:58<03:57,  7.00s/it]"
          ]
        }
      ]
    }
  ]
}